{
  "nbformat": 4,
  "nbformat_minor": 0,
  "metadata": {
    "kernelspec": {
      "display_name": "R",
      "language": "R",
      "name": "ir"
    },
    "language_info": {
      "codemirror_mode": "r",
      "file_extension": ".r",
      "mimetype": "text/x-r-source",
      "name": "R",
      "pygments_lexer": "r",
      "version": "3.3.1"
    },
    "colab": {
      "name": "Ejercicio 2 (R) - Predicción con Red Neuronal",
      "provenance": [],
      "collapsed_sections": [],
      "toc_visible": true
    }
  },
  "cells": [
    {
      "cell_type": "markdown",
      "metadata": {
        "id": "AEA4r6FfIRE5",
        "colab_type": "text"
      },
      "source": [
        "# Ejercicio 2 - Implementación de Red Neuronal\n",
        "\n",
        "Este ejercicio se centra en el entrenamiento y evaluación de una red neuronal (relativamente) simple, sobre un conjunto de datos de campañas de marketing de productos bancarios. \n",
        "\n",
        "## Contexto: Análisis de éxito en campaña de marketing\n",
        "\n",
        "Fuente: https://archive.ics.uci.edu/ml/datasets/Bank+Marketing\n",
        "\n",
        "El foco está en la implementación de una red neuronal para clasificación y la comparación de su desempeño con otro modelo de clasificación para predicir el valor de un atributo, desde un *dataset* de información de un resultados de personas contactadas por una campaña de marketing y que compraron la oferta (atributo \"OK\"), con cerca de 41.200 registros de personas contactadas.\n",
        "\n",
        "Este conjunto de datos (abierto para este tipo de usos instruccionales), consiste en 20 atributos y 1 clase de etiquetas (totalizando 21 columnas) y corresponde a los datos de una campaña telefónica a diversos clientes en Portugal, ofreciéndoles la compra de un producto bancario. En varios casos, un cliente fue contactado varias veces antes de aceptar el el depósito a plazo ofrecido por la campaña (OK = yes). \n",
        "\n",
        "Algunos de los atributos relevantes son (combinando atributos categóricos, con numéricos):\n",
        "* **Datos personales**: Edad, Ocupación, Estado Civil, Nivel de Educación.\n",
        "* **Datos financieros**: Su casa tiene crédito hipotecario, default: si el crédito ha caído en quiebra; tiene un crédito de consumo.\n",
        "* **Datos de contactos de la campaña actual**: Tipo de Comunicación (celular o teléfono fijo); Mes del último contacto; Día de la semana del contacto; duración de la llamada (segundos); Contacto: N° de contactos durante la campaña; DíasAtrás: días transcurridos desde último contacto; Resultado: resultado de la última llamada (falló, no-existe, éxito)\n",
        "* **Datos socioeconómicos**: EmpTasaVar: tasa de variación de empleabilidad; IPC: índice de precios consumidor mensual; ICC: índice de confianza consumidor mensual; Euribor3m: tasa euribor de 3 meses indicador diario; NumEmpleados: cantidad de gente empleada, en indicador trimestral. \n",
        "\n",
        "Esta adaptación en particular, por el equipo de R:Solver (RSolver.com), enfrenta diferentes objetivos de aprendizaje dentro de los cursos de Big Data y Machine Learning.\n",
        "\n"
      ]
    },
    {
      "cell_type": "markdown",
      "metadata": {
        "id": "BhFF63rsMfbI",
        "colab_type": "text"
      },
      "source": [
        "## Instrucciones Generales\n",
        "En este caso, se busca entender el comportamiento y desempeño de idferentes modelos de clasificación sobre este conjunto de datos, para predecir la variable de interés: **OK**, que servirá para predecir en casos futuros, según los datos de contactabilidad de un cliente, si el cliente aceptará o no contratar el depósito a plazo.\n",
        "\n",
        "Todos los alumnos, ya sea en grupo, o individualmente (si no tienen compañeros), deben contestar las preguntas que se indican en las secciones de \"Preguntas\", más adelante. Se puede recurrir a ejercicios de otras fuentes, así como al material de clases.\n",
        "\n",
        "El formato del email es:\n",
        "\n",
        "To: rsandova@ing.puc.cl\n",
        "\n",
        "Subject: Ejercicio 2 - (AÑO)(MES)(DÍA)    (por ej: Ejercicio 2 - 20200825)\n",
        "\n",
        "Integrantes: (nombre y apellido), (nombre y apellido), ...\n",
        "\n",
        "Tabla de datos de ejecuciones comparadas.\n",
        "\n",
        "El mejor desempeño de modelo es (indicando análisis y sustento para la conclusión):\n",
        "\n"
      ]
    },
    {
      "cell_type": "markdown",
      "metadata": {
        "id": "nbsvny1wYwsT",
        "colab_type": "text"
      },
      "source": [
        "## Paso 0: Instalar las librerías de modelos de clasificación\n",
        "\n",
        "Esto se ejecuta sólo una vez al comienzo de la sesión de cada persona. No se necesita volver a ejecutar con cada nueva prueba del resto de los scripts."
      ]
    },
    {
      "cell_type": "code",
      "metadata": {
        "id": "Yr8D6ajXY2T9",
        "colab_type": "code",
        "colab": {}
      },
      "source": [
        "install.packages('e1071')\n",
        "install.packages('caret')\n",
        "install.packages('rpart')\n",
        "install.packages('rpart.plot')\n",
        "install.packages('randomForest')\n",
        "install.packages(\"nnet\")\n"
      ],
      "execution_count": null,
      "outputs": []
    },
    {
      "cell_type": "markdown",
      "metadata": {
        "id": "0q3bYb0RM5bx",
        "colab_type": "text"
      },
      "source": [
        "## Paso 1: Carga de los datos\n",
        "\n",
        "La siguiente celda de código, carga los datos desde la URL de origen y luego muestra un encabezado con las primeras filas del dataset, para demostrar la disponibilidad de los datos.\n",
        "\n",
        "Esto también puede ser ejecutado una sola vez, si es conveniente."
      ]
    },
    {
      "cell_type": "code",
      "metadata": {
        "id": "yIIKPnj-IRE8",
        "colab_type": "code",
        "colab": {}
      },
      "source": [
        "# Se declara la URL de dónde obtener los datos\n",
        "theUrlMain <- \"http://www.rsolver.com/dcc/docs/bank-additional-full.csv\"\n",
        "\n",
        "# Se declaran los nombres de las columnas\n",
        "columnas = c(\"Edad\",\"Ocupación\",\"EstadoCivil\",\"Educación\",\"Default\",\"Hipotecario\",\"Consumo\",\"Contacto\",\"Mes\",\"Día\",\n",
        "             \"Duración\",\"NumContactos\",\"DíasAtrás\",\"Previo\",\"ResultadoPrevio\", \"EmpTasaVar\", \"IPC\", \"ICC\", \"Euribor3m\", \"NumEmpleados\", \"OK\")\n",
        "\n",
        "# Se cargan datos principales a una estructura (marketing.data), asignando nombres de atributos a las columnas\n",
        "marketing.data <- read.table(file = theUrlMain, header = TRUE, sep = \";\", col.names = columnas, na.strings=c(\"unknown\",\"NA\"))\n",
        "\n",
        "# Se eliminan los registros que tienen algún NA (unknown)\n",
        "marketing.clean <- na.omit(marketing.data)\n",
        "dim(marketing.clean) # Sólo quedan poco más de 30.000 filas (de las 41.000 originales)\n",
        "\n",
        "# Se muestran las primeras líneas del dataset, incluyendo nombres asignados a las columnas\n",
        "head(marketing.clean, 50)\n",
        "\n",
        "# Se muestra un resumen de las columnas del dataset, describiendo los datos que se encuentran\n",
        "summary(marketing.clean)\n"
      ],
      "execution_count": null,
      "outputs": []
    },
    {
      "cell_type": "markdown",
      "metadata": {
        "colab_type": "text",
        "id": "iX9lYmofTUJx"
      },
      "source": [
        "## Ejercicio - parte 1: Preparación conjuntos de entrenamiento y evaluación\n",
        "\n",
        "El siguiente código prepara los datos para el entrenamiento y evaluación. Se pueden probar diferentes proporciones de entrenamiento vs. evaluación.\n"
      ]
    },
    {
      "cell_type": "code",
      "metadata": {
        "id": "V55CGwB_bPOJ",
        "colab_type": "code",
        "colab": {}
      },
      "source": [
        "# Proporción Training/Testing. Por ej: 0.75 = 75% entrenamiento y 25% validación\n",
        "ratio = sample(1:nrow(marketing.clean), size = 0.75*nrow(marketing.clean)) \n",
        "Train = marketing.clean[ratio,] \n",
        "Test = marketing.clean[-ratio,] \n",
        "dim(Train)\n",
        "dim(Test)"
      ],
      "execution_count": null,
      "outputs": []
    },
    {
      "cell_type": "markdown",
      "metadata": {
        "id": "82LcskQOnNmH",
        "colab_type": "text"
      },
      "source": [
        "## Ejercicio - parte 2 complementaria: Implementación de un modelo de clasificación para comparar\n",
        "\n",
        "Esta sección implementa un Random Forest, como modelo de clasificación de referencia, cuyo desempeño será comparado con la Red Neuronal más adelante.\n",
        "\n",
        "**No se necesita modificar esta sección**\n"
      ]
    },
    {
      "cell_type": "markdown",
      "metadata": {
        "id": "EM91HnJqh7D6",
        "colab_type": "text"
      },
      "source": [
        "**Random Forest**"
      ]
    },
    {
      "cell_type": "code",
      "metadata": {
        "id": "XUkbhaJ0CGDm",
        "colab_type": "code",
        "colab": {}
      },
      "source": [
        "library(randomForest)\n",
        "library(caret)\n",
        "\n",
        "# Random Forest\n",
        "RF_model <- randomForest(OK ~ ., data=Train, importance=TRUE, keep.forest=TRUE)\n",
        "RF_predict <- predict(RF_model, Test)\n",
        "confusionMatrix(Test$OK, RF_predict)"
      ],
      "execution_count": null,
      "outputs": []
    },
    {
      "cell_type": "markdown",
      "metadata": {
        "id": "JsMYJxDuzfWh",
        "colab_type": "text"
      },
      "source": [
        "# Ejercicio - parte 3 - Implementación de una Red Neuronal\n",
        "\n",
        "A continuación se declara, entrena y evalúa un modelo de Red Neuronal. Esta primera declaración viene con una configuración inicial:\n",
        "\n",
        "*   Se usa una capa escondida o intermedia. Su cantidad de nodos está dada por el atributo 'size'.\n",
        "\n",
        "*   La cantidad de iteraciones para mejorar el entrenamiento se da por el atributo 'maxit'\n",
        "*   Hay otros atributos posibles de analizar y modificar en https://www.rdocumentation.org/packages/nnet/versions/7.3-14/topics/nnet. Nótese que la configuración por defecto usa una activación logística, pero es posible aplicar softmax o linout, pero eso requiere de parámetros adicionales.\n",
        "\n",
        "**NOTA**: dada la naturaleza aleatoria del comportamiento del entrenamiento, en ocasiones la red neuronal no entrega resultados para la clase menos representada. En cuyo caso, sólo basta con volver a ejecutar el código, para que - aleatoriamente - logre dar resultados en dicha clase.\n",
        "\n",
        "**Ejercicio**\n",
        "Los alumnos, en grupo o individualmente, deben lograr:\n",
        "\n",
        "1.   De los datos de la tabla, obtener accurracy del modelo, recall de la clase positiva, ambos para poder evaluar su desempeño.\n",
        "2.   Volver a ejecutar el modelo, cambiando la cantidad de nodos de la capa escondida (size) y aumentando (o disminuyendo) la cantidad de iteraciones (maxit).\n",
        "3.   Opcionalmente, buscar algún otro parámetro de ejecución de la red neuronal, que pueda redundar en mejor desempeño.\n",
        "\n",
        "Al terminar las ejecuciones, se debe enviar un email reportando los resultados y conclusiones, según las indicaciones al comienzo de este enunciado. La idea es contestar:\n",
        "\n",
        "*    ¿Cuáles son los parámetros de ejecución del modelo que dan el mejor desempeño de la Red Neuronal?\n",
        "*    ¿Con qué proporción de entrenamiento/validación se logra ese mejor desempeño?\n",
        "*    ¿Logra superar al modelo Random Forest? (En cualquier caso, se pide una posible y teórica explicación de por qué es mejor/peor que ese otro modelo)\n",
        "\n"
      ]
    },
    {
      "cell_type": "code",
      "metadata": {
        "id": "Hc_U5O1nzit0",
        "colab_type": "code",
        "colab": {}
      },
      "source": [
        "library(nnet) \n",
        "library(caret)\n",
        "\n",
        "\n",
        "# Red Neuronal\n",
        "NN_model <- nnet(OK ~ ., data=Train, size=20, maxit=10)\n",
        "NN_predict <- predict(NN_model, Test, type=\"class\")\n",
        "\n",
        "predTable <- table(NN_predict, Test$OK)\n",
        "predTable\n",
        "\n",
        "#Recordar que dada la naturaleza aleatoria del comportamiento del entrenamiento, \n",
        "# en ocasiones la red neuronal no entrega resultados para la clase menos representada. \n",
        "# En cuyo caso, sólo basta con volver a ejecutar el código, para que - aleatoriamente \n",
        "# - logre dar resultados en dicha clase.\n",
        "\n",
        "tp = predTable[1,1]\n",
        "fn = predTable[1,2]\n",
        "fp = predTable[2,1]\n",
        "tn = predTable[2,2]\n",
        "\n",
        "accuracy2 = (tp+tn)/(tp+tn+fp+fn)\n",
        "cat(\"\\nAccuracy: \", accuracy2)\n",
        "\n",
        "sensitivity2 = tp/(tp+fn)\n",
        "cat(\"\\nSensitivity: \", sensitivity2)\n",
        "\n",
        "specificity2 = tn/(tn+fn)\n",
        "cat(\"\\nSpecificity: \", specificity2)\n",
        "\n",
        "plot(predTable)\n"
      ],
      "execution_count": null,
      "outputs": []
    }
  ]
}